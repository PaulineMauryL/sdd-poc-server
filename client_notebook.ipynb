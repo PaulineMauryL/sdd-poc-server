{
 "cells": [
  {
   "cell_type": "code",
   "execution_count": 1,
   "id": "39737560",
   "metadata": {},
   "outputs": [],
   "source": [
    "from client.client import Client"
   ]
  },
  {
   "cell_type": "code",
   "execution_count": 7,
   "id": "941991f7",
   "metadata": {},
   "outputs": [],
   "source": [
    "client = Client(url=\"http://127.0.0.1\", user_name = 'Alice')"
   ]
  },
  {
   "cell_type": "code",
   "execution_count": 10,
   "id": "3f553b29",
   "metadata": {},
   "outputs": [
    {
     "data": {
      "text/html": [
       "<div>\n",
       "<style scoped>\n",
       "    .dataframe tbody tr th:only-of-type {\n",
       "        vertical-align: middle;\n",
       "    }\n",
       "\n",
       "    .dataframe tbody tr th {\n",
       "        vertical-align: top;\n",
       "    }\n",
       "\n",
       "    .dataframe thead th {\n",
       "        text-align: right;\n",
       "    }\n",
       "</style>\n",
       "<table border=\"1\" class=\"dataframe\">\n",
       "  <thead>\n",
       "    <tr style=\"text-align: right;\">\n",
       "      <th></th>\n",
       "      <th>petal_length</th>\n",
       "      <th>petal_width</th>\n",
       "      <th>sepal_length</th>\n",
       "      <th>sepal_width</th>\n",
       "      <th>species</th>\n",
       "    </tr>\n",
       "  </thead>\n",
       "  <tbody>\n",
       "    <tr>\n",
       "      <th>0</th>\n",
       "      <td>4.058131</td>\n",
       "      <td>0.337514</td>\n",
       "      <td>8.659541</td>\n",
       "      <td>3.159725</td>\n",
       "      <td>c</td>\n",
       "    </tr>\n",
       "    <tr>\n",
       "      <th>1</th>\n",
       "      <td>9.531786</td>\n",
       "      <td>4.337572</td>\n",
       "      <td>3.698713</td>\n",
       "      <td>2.456146</td>\n",
       "      <td>a</td>\n",
       "    </tr>\n",
       "    <tr>\n",
       "      <th>2</th>\n",
       "      <td>7.453942</td>\n",
       "      <td>3.025519</td>\n",
       "      <td>3.454600</td>\n",
       "      <td>4.059264</td>\n",
       "      <td>b</td>\n",
       "    </tr>\n",
       "    <tr>\n",
       "      <th>3</th>\n",
       "      <td>6.187256</td>\n",
       "      <td>3.554959</td>\n",
       "      <td>3.467236</td>\n",
       "      <td>1.697469</td>\n",
       "      <td>a</td>\n",
       "    </tr>\n",
       "    <tr>\n",
       "      <th>4</th>\n",
       "      <td>1.982177</td>\n",
       "      <td>0.151893</td>\n",
       "      <td>4.433938</td>\n",
       "      <td>2.460723</td>\n",
       "      <td>c</td>\n",
       "    </tr>\n",
       "    <tr>\n",
       "      <th>5</th>\n",
       "      <td>1.981948</td>\n",
       "      <td>4.851054</td>\n",
       "      <td>6.198051</td>\n",
       "      <td>2.831809</td>\n",
       "      <td>c</td>\n",
       "    </tr>\n",
       "  </tbody>\n",
       "</table>\n",
       "</div>"
      ],
      "text/plain": [
       "   petal_length  petal_width  sepal_length  sepal_width species\n",
       "0      4.058131     0.337514      8.659541     3.159725       c\n",
       "1      9.531786     4.337572      3.698713     2.456146       a\n",
       "2      7.453942     3.025519      3.454600     4.059264       b\n",
       "3      6.187256     3.554959      3.467236     1.697469       a\n",
       "4      1.982177     0.151893      4.433938     2.460723       c\n",
       "5      1.981948     4.851054      6.198051     2.831809       c"
      ]
     },
     "execution_count": 10,
     "metadata": {},
     "output_type": "execute_result"
    }
   ],
   "source": [
    "client.get_dummy_dataset(dataset_name= \"IRIS\", nb_rows = 6)"
   ]
  },
  {
   "cell_type": "code",
   "execution_count": 11,
   "id": "90cf2a6d",
   "metadata": {},
   "outputs": [
    {
     "data": {
      "text/html": [
       "<div>\n",
       "<style scoped>\n",
       "    .dataframe tbody tr th:only-of-type {\n",
       "        vertical-align: middle;\n",
       "    }\n",
       "\n",
       "    .dataframe tbody tr th {\n",
       "        vertical-align: top;\n",
       "    }\n",
       "\n",
       "    .dataframe thead th {\n",
       "        text-align: right;\n",
       "    }\n",
       "</style>\n",
       "<table border=\"1\" class=\"dataframe\">\n",
       "  <thead>\n",
       "    <tr style=\"text-align: right;\">\n",
       "      <th></th>\n",
       "      <th>NB_ROW</th>\n",
       "    </tr>\n",
       "  </thead>\n",
       "  <tbody>\n",
       "    <tr>\n",
       "      <th>0</th>\n",
       "      <td>100</td>\n",
       "    </tr>\n",
       "  </tbody>\n",
       "</table>\n",
       "</div>"
      ],
      "text/plain": [
       "   NB_ROW\n",
       "0     100"
      ]
     },
     "execution_count": 11,
     "metadata": {},
     "output_type": "execute_result"
    }
   ],
   "source": [
    "client.smartnoise_sql(dataset_name= \"IRIS\", query = \"SELECT COUNT(*) AS NB_ROW FROM Schema.Table\",  dummy = True, nb_rows = 6)"
   ]
  },
  {
   "cell_type": "code",
   "execution_count": null,
   "id": "133020c6",
   "metadata": {},
   "outputs": [],
   "source": []
  }
 ],
 "metadata": {
  "kernelspec": {
   "display_name": "Python 3 (ipykernel)",
   "language": "python",
   "name": "python3"
  },
  "language_info": {
   "codemirror_mode": {
    "name": "ipython",
    "version": 3
   },
   "file_extension": ".py",
   "mimetype": "text/x-python",
   "name": "python",
   "nbconvert_exporter": "python",
   "pygments_lexer": "ipython3",
   "version": "3.10.9"
  }
 },
 "nbformat": 4,
 "nbformat_minor": 5
}
