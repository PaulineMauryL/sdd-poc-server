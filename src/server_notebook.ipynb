{
 "cells": [
  {
   "cell_type": "markdown",
   "id": "363c238d-5925-4b4b-8f68-8ad84ea4705b",
   "metadata": {},
   "source": [
    "# Secure Data Disclosure: Server side"
   ]
  },
  {
   "cell_type": "markdown",
   "id": "2db1363b-e87e-4d0e-bb3f-9af1a1b72b8d",
   "metadata": {},
   "source": [
    "This notebook showcases how data owner could set up the server, add make their data available to certain user. It explains the different steps necessary."
   ]
  },
  {
   "cell_type": "markdown",
   "id": "de384c88-559e-4384-a49b-1664ffdd6692",
   "metadata": {},
   "source": [
    "## Start the server"
   ]
  },
  {
   "cell_type": "markdown",
   "id": "92f3237b-6f13-4c52-a9f2-82d94f0b7e66",
   "metadata": {},
   "source": [
    "### Create a docker volume\n",
    "The first step is to create a docker volume for mongodb. Docker volumes are persistent storage spaces that are managed by docker and can be mounted in containers. To create the volume use `docker volume create mongodata`. This must be done only once, and we use bind mounts for the server, so no need to create volumes for that."
   ]
  },
  {
   "cell_type": "markdown",
   "id": "87093f8e-68b1-4f1e-9e66-97c3885b3e48",
   "metadata": {},
   "source": [
    "In a terminal run: `!docker volume create mongodata`. In output you should see `mongodata` written."
   ]
  },
  {
   "cell_type": "markdown",
   "id": "f6829afb-d822-48e4-ba49-5daf0d79db7e",
   "metadata": {},
   "source": [
    "### Start server\n",
    "The second step is to start the server. Therefore the config file `configs/example_config.yaml` has to be adapted. The data owner must make sure to set the develop mode to False, specify the database type and ports. For this notebook, we will keep the default and use a mongodb on port 27017. Note: Keep in mind that if the configuration file is modified then the `docker-compose` has to be modified accordingly. This is out of scope for this notebook."
   ]
  },
  {
   "cell_type": "markdown",
   "id": "2408425a-13c6-4b89-a1fe-88491850fe10",
   "metadata": {},
   "source": [
    "In a terminal run `!docker compose up`. This will start the server and the mongodb."
   ]
  },
  {
   "cell_type": "markdown",
   "id": "8dbebd54-8deb-46e6-b811-73ac74028569",
   "metadata": {},
   "source": [
    "### Get in an interactive shell of the server "
   ]
  },
  {
   "cell_type": "markdown",
   "id": "f5e49d21-09ad-434a-8171-b36a7fee9395",
   "metadata": {},
   "source": [
    "In a terminal, run `!docker exec -it sdd_server_dev /bin/bash`"
   ]
  },
  {
   "cell_type": "markdown",
   "id": "9f35fd20-715c-483b-88e4-449c287ba61d",
   "metadata": {},
   "source": [
    "Now, you are ready to interact with the database and add users."
   ]
  },
  {
   "cell_type": "markdown",
   "id": "d368d6a6-f1fe-4f65-9ce1-38c0b39584d1",
   "metadata": {},
   "source": [
    "## Prepare the database and user's access rights"
   ]
  },
  {
   "cell_type": "markdown",
   "id": "b37c19b8-303d-4fe8-b515-33ed1099c581",
   "metadata": {},
   "source": [
    "### Visualise all options\n",
    "You can visualise all the options offered by the database by running the command `python src/mongodb_admin.py --help`. We will go through through each of them in the rest of the notebook."
   ]
  },
  {
   "cell_type": "code",
   "execution_count": 20,
   "id": "8a749f4b-93cb-460c-bb40-4880df6e51d9",
   "metadata": {},
   "outputs": [
    {
     "name": "stdout",
     "output_type": "stream",
     "text": [
      "usage: MongoDB administration script for the SDD POC Server\n",
      "       [-h]\n",
      "       {add_user,add_user_with_budget,del_user,add_dataset_to_user,del_dataset_to_user,set_budget_field,set_may_query,add_metadata,del_metadata,drop_collection,show_collection,create_ex_users}\n",
      "       ...\n",
      "\n",
      "options:\n",
      "  -h, --help            show this help message and exit\n",
      "\n",
      "subcommands:\n",
      "  {add_user,add_user_with_budget,del_user,add_dataset_to_user,del_dataset_to_user,set_budget_field,set_may_query,add_metadata,del_metadata,drop_collection,show_collection,create_ex_users}\n",
      "                        database administration operations\n",
      "    add_user            add user to users collection\n",
      "    add_user_with_budget\n",
      "                        add user to users collection\n",
      "    del_user            delete user from users collection\n",
      "    add_dataset_to_user\n",
      "                        add dataset with initialized budget values for a user\n",
      "                        in users collection\n",
      "    del_dataset_to_user\n",
      "                        delete dataset for user in users collection\n",
      "    set_budget_field    set budget field to given value for given user and\n",
      "                        dataset\n",
      "    set_may_query       set may query field to given value for given user\n",
      "    add_metadata        add metadata for given dataset to metadata collection\n",
      "    del_metadata        delete metadata to metadata collection\n",
      "    drop_collection     delete collection from database\n",
      "    show_collection     print the users collection\n",
      "    create_ex_users     create example of users collection\n"
     ]
    }
   ],
   "source": [
    "!python mongodb_admin.py --help"
   ]
  },
  {
   "cell_type": "markdown",
   "id": "d7edd7d3-20f9-4546-afc8-25661f948d44",
   "metadata": {},
   "source": [
    "### Add metadata"
   ]
  },
  {
   "cell_type": "markdown",
   "id": "ed1597b3-767f-470c-a7d7-8fe41dd82da5",
   "metadata": {},
   "source": [
    "To later perform query on the dataset, some metadata is required. In this secure server the metadata information is expected to be in the same format as [SmartnoiseSQL dictionary format](https://docs.smartnoise.org/sql/metadata.html#dictionary-format), where among other, there is information about all the available columns, their type, bound values (see Smartnoise page for more details).\n",
    "\n",
    "Therefore, you should prepare the data and save it in a `yaml` file. When you call the function, you should give the path to this metadata `yaml` file."
   ]
  },
  {
   "cell_type": "code",
   "execution_count": 21,
   "id": "53f5787d-e721-43d9-85ce-da842f173381",
   "metadata": {},
   "outputs": [
    {
     "name": "stdout",
     "output_type": "stream",
     "text": [
      "python: can't open file '/home/pauline/poc/sdd-poc-server/mongodb_admin.py': [Errno 2] No such file or directory\n"
     ]
    }
   ],
   "source": [
    "!python mongodb_admin.py add_metadata --metadata_path metadata/penguin_metadata.yaml --dataset PENGUIN"
   ]
  },
  {
   "cell_type": "code",
   "execution_count": null,
   "id": "0e42f9cb-3a02-45f5-baee-2e06edda739f",
   "metadata": {},
   "outputs": [],
   "source": [
    "!python mongodb_admin.py add_metadata --metadata_path metadata/iris_metadata.yaml --dataset IRIS"
   ]
  },
  {
   "cell_type": "markdown",
   "id": "0746b382-8692-445f-9ca9-0d2407a25259",
   "metadata": {},
   "source": [
    "Finally let's have a look at the  stored metadata:"
   ]
  },
  {
   "cell_type": "code",
   "execution_count": null,
   "id": "c667dda0-5d0f-48c8-956c-8d8a756b7ff7",
   "metadata": {},
   "outputs": [],
   "source": [
    "!python mongodb_admin.py show_collection --collection metadata"
   ]
  },
  {
   "cell_type": "markdown",
   "id": "14ab18db-4b6d-4663-bde0-b5d9d3d3d2ee",
   "metadata": {},
   "source": [
    "### Add user\n",
    "Let's add few users."
   ]
  },
  {
   "cell_type": "code",
   "execution_count": null,
   "id": "0f6aa33c-6bd1-4d62-ba06-3533b064340d",
   "metadata": {},
   "outputs": [],
   "source": [
    "!python mongodb_admin.py add_user_with_budget --user \"Mrs. Daisy\" --dataset \"IRIS\" --epsilon 10.0 --delta 0.001"
   ]
  },
  {
   "cell_type": "code",
   "execution_count": 8,
   "id": "7858f019-8783-4fed-acd8-ff0107d33465",
   "metadata": {},
   "outputs": [
    {
     "name": "stdout",
     "output_type": "stream",
     "text": [
      "python: can't open file '/home/pauline/poc/sdd-poc-server/mongodb_admin.py': [Errno 2] No such file or directory\n"
     ]
    }
   ],
   "source": [
    "!python mongodb_admin.py add_user_with_budget --user \"Mr. Coldheart\" --dataset \"PENGUIN\" --epsilon 10.0 --delta 0.001"
   ]
  },
  {
   "cell_type": "code",
   "execution_count": 9,
   "id": "231e7d93-05ba-424a-8329-d96b0bfb4fb9",
   "metadata": {},
   "outputs": [
    {
     "name": "stdout",
     "output_type": "stream",
     "text": [
      "python: can't open file '/home/pauline/poc/sdd-poc-server/mongodb_admin.py': [Errno 2] No such file or directory\n"
     ]
    }
   ],
   "source": [
    "!python mongodb_admin.py add_user_with_budget --user \"Dr. Antartica\" --dataset \"PENGUIN\" --epsilon 10.0 --delta 0.001"
   ]
  },
  {
   "cell_type": "markdown",
   "id": "51b0c274-880c-44f9-9182-6cb162a54c55",
   "metadata": {},
   "source": [
    "Users must all have different names, otherwise you will have an error and nothing you be done:"
   ]
  },
  {
   "cell_type": "code",
   "execution_count": null,
   "id": "6276730e-39c2-47f1-962f-342c1acb7944",
   "metadata": {},
   "outputs": [],
   "source": [
    "!python mongodb_admin.py add_user_with_budget --user \"Dr. Antartica\" --dataset \"IRIS\" --epsilon 10.0 --delta 0.001"
   ]
  },
  {
   "cell_type": "markdown",
   "id": "49f81f7e-e086-412f-8467-89b665e5559a",
   "metadata": {},
   "source": [
    "If you want to add another dataset access to an existing user, just use the function `add_dataset_to_user` command."
   ]
  },
  {
   "cell_type": "code",
   "execution_count": null,
   "id": "82a5f498-aed1-4779-9d73-b2b71dde4ce0",
   "metadata": {},
   "outputs": [],
   "source": [
    "!python mongodb_admin.py add_dataset_to_user --user \"Dr. Antartica\" --dataset \"IRIS\" --epsilon 5.0 --delta 0.005"
   ]
  },
  {
   "cell_type": "markdown",
   "id": "06170073-49ed-4329-8101-2debdd77eb98",
   "metadata": {},
   "source": [
    "Alternativelly, you can create user without ataset and then add dataset in another command."
   ]
  },
  {
   "cell_type": "code",
   "execution_count": null,
   "id": "06839270-36cf-4de7-b93c-d143c4866bc8",
   "metadata": {},
   "outputs": [],
   "source": [
    "!python mongodb_admin.py add_user --user \"Snugglefluff\"\n",
    "!python mongodb_admin.py add_dataset_to_user --user \"Snugglefluff\" --dataset \"IRIS\" --epsilon 5.0 --delta 0.005"
   ]
  },
  {
   "cell_type": "markdown",
   "id": "bbeb5dc2-e91e-4440-8df5-3e9506bf4ee1",
   "metadata": {},
   "source": [
    "Let's see the current state of the database:"
   ]
  },
  {
   "cell_type": "code",
   "execution_count": null,
   "id": "3b3f61c6-65dc-4b1e-a32e-47cdd2729ab6",
   "metadata": {},
   "outputs": [],
   "source": [
    "!python mongodb_admin.py show_collection --collection users"
   ]
  },
  {
   "cell_type": "markdown",
   "id": "4e0ae62f-ff80-4234-8102-4dccec0b284f",
   "metadata": {},
   "source": [
    "Do not hesitate to re-run this call after every other command to ensure that all runs as expected."
   ]
  },
  {
   "cell_type": "markdown",
   "id": "9ab1f5ba-68bd-4c96-bacd-b81dfa5d6302",
   "metadata": {},
   "source": [
    "### Remove user\n",
    "You have just heard the the penguin named Coldheart might have malicious intentions and decide to remove his access until an investigation has been made. You can set that he is not allowed to do query anymore."
   ]
  },
  {
   "cell_type": "code",
   "execution_count": null,
   "id": "7f341b3d-5a88-4fd9-8c97-cc70145834f1",
   "metadata": {},
   "outputs": [],
   "source": [
    "!python mongodb_admin.py set_may_query --user \"Mr. Coldheart\" --value False"
   ]
  },
  {
   "cell_type": "markdown",
   "id": "4cc56586-f9a9-4e88-abed-51ba36a6e4f1",
   "metadata": {},
   "source": [
    "Now, he won't be able to do any query (unless you re-run the query with --value True).\n",
    "\n",
    "A few days have passed and the investigation reveals that he aimed to do unethical research, you can remove the dataset access to him:"
   ]
  },
  {
   "cell_type": "code",
   "execution_count": null,
   "id": "9153d9af-b4be-4496-9f80-d140870f60fe",
   "metadata": {},
   "outputs": [],
   "source": [
    "!python mongodb_admin.py del_dataset_to_user --user \"Mr. Coldheart\" --dataset \"PENGUIN\""
   ]
  },
  {
   "cell_type": "markdown",
   "id": "18d411ae-a211-4997-8984-81281c6275eb",
   "metadata": {},
   "source": [
    "Or delete him completelly from the codebase"
   ]
  },
  {
   "cell_type": "code",
   "execution_count": null,
   "id": "a54e89eb-1ee1-48ad-9e00-bace8516a3ef",
   "metadata": {},
   "outputs": [],
   "source": [
    "!python mongodb_admin.py del_user --user \"Mr. Coldheart\""
   ]
  },
  {
   "cell_type": "markdown",
   "id": "06a7c17f-da34-472a-ad7f-3ae73a1beb7b",
   "metadata": {},
   "source": [
    "Let's see the resulting users:"
   ]
  },
  {
   "cell_type": "code",
   "execution_count": null,
   "id": "79fa414a-f097-4207-a628-19fa434a1ad3",
   "metadata": {},
   "outputs": [],
   "source": [
    "!python mongodb_admin.py show_collection --collection users"
   ]
  },
  {
   "cell_type": "markdown",
   "id": "90a46a59-70ed-4a26-88cd-6ca8f1d17318",
   "metadata": {},
   "source": [
    "### Change budget\n",
    "You also change your ming about the budget allowed to Dr. Antartica and give her a bit more on the penguin dataset."
   ]
  },
  {
   "cell_type": "code",
   "execution_count": null,
   "id": "0909e6c4-141e-4d57-acd2-bdc0a2d92cea",
   "metadata": {},
   "outputs": [],
   "source": [
    "!python mongodb_admin.py set_budget_field --user \"Dr. Antartica\"  --dataset \"PENGUIN\" --field initial_epsilon --value 15.0"
   ]
  },
  {
   "cell_type": "code",
   "execution_count": null,
   "id": "c0e110fe-4297-4559-9a95-bc0ebdfa402c",
   "metadata": {},
   "outputs": [],
   "source": [
    "!python mongodb_admin.py set_budget_field --user \"Dr. Antartica\"  --dataset \"PENGUIN\" --field initial_delta --value 0.005"
   ]
  },
  {
   "cell_type": "markdown",
   "id": "952d7ed4-ce1d-4a87-9319-6b57968ef20e",
   "metadata": {},
   "source": [
    "Let's check all our change by looking a the state of the database:"
   ]
  },
  {
   "cell_type": "code",
   "execution_count": null,
   "id": "2ab46c5d-1553-4925-bd25-61c9c205dc95",
   "metadata": {},
   "outputs": [],
   "source": [
    "!python mongodb_admin.py show_collection --collection users"
   ]
  },
  {
   "cell_type": "markdown",
   "id": "a27be3d3-77a2-43d3-9a7f-87c8466293fe",
   "metadata": {},
   "source": [
    "## Stop the server: do not do it now !\n",
    "To tear down the service, first do `ctrl+C` in the terminal where you had done `docker compose up`. Wait for the command to finish executing and then run `docker compose down`. This will also delete all the containers but the volume will stay in place. "
   ]
  },
  {
   "cell_type": "code",
   "execution_count": null,
   "id": "04860a56-508e-4433-9d10-59481ef96e92",
   "metadata": {},
   "outputs": [],
   "source": []
  }
 ],
 "metadata": {
  "kernelspec": {
   "display_name": "Python 3 (ipykernel)",
   "language": "python",
   "name": "python3"
  },
  "language_info": {
   "codemirror_mode": {
    "name": "ipython",
    "version": 3
   },
   "file_extension": ".py",
   "mimetype": "text/x-python",
   "name": "python",
   "nbconvert_exporter": "python",
   "pygments_lexer": "ipython3",
   "version": "3.10.9"
  }
 },
 "nbformat": 4,
 "nbformat_minor": 5
}
