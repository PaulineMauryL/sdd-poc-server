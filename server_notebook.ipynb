{
 "cells": [
  {
   "cell_type": "markdown",
   "id": "363c238d-5925-4b4b-8f68-8ad84ea4705b",
   "metadata": {},
   "source": [
    "# Secure Data Disclosure: Server side"
   ]
  },
  {
   "cell_type": "markdown",
   "id": "2db1363b-e87e-4d0e-bb3f-9af1a1b72b8d",
   "metadata": {},
   "source": [
    "This notebook showcases how data owner could set up the server, add make their data available to certain user. It explains the different steps necessary."
   ]
  },
  {
   "cell_type": "markdown",
   "id": "92f3237b-6f13-4c52-a9f2-82d94f0b7e66",
   "metadata": {},
   "source": [
    "## Create a docker volume\n",
    "The first step is to create a docker volume for mongodb. Docker volumes are persistent storage spaces that are managed by docker and can be mounted in containers. To create the volume use `docker volume create mongodata`. This must be done only once, and we use bind mounts for the server, so no need to create volumes for that."
   ]
  },
  {
   "cell_type": "code",
   "execution_count": 2,
   "id": "b38c4884-f840-4bab-b5b6-7e49a69df7ff",
   "metadata": {},
   "outputs": [
    {
     "name": "stdout",
     "output_type": "stream",
     "text": [
      "mongodata\n"
     ]
    }
   ],
   "source": [
    "!docker volume create mongodata"
   ]
  },
  {
   "cell_type": "markdown",
   "id": "f6829afb-d822-48e4-ba49-5daf0d79db7e",
   "metadata": {},
   "source": [
    "## Start server\n",
    "The second step is to start the server. Therefore the config file `configs/example_config.yaml` has to be adapted. The data owner must make sure to set the develop mode to False, specify the database type and ports. For this notebook, we will keep the default and use a mongodb on port 27017. Note: Keep in mind that if the configuration file is modified then the `docker-compose` has to be modified accordingly. This is out of scope for this notebook.\n",
    "\n",
    "Startup the service by running `docker compose up` in a terminal."
   ]
  },
  {
   "cell_type": "code",
   "execution_count": 6,
   "id": "ea429f8b-971e-4625-925d-de287f3a8f97",
   "metadata": {},
   "outputs": [],
   "source": [
    "#!docker compose down"
   ]
  },
  {
   "cell_type": "markdown",
   "id": "ea99b4ba-e529-4605-adf2-ae4729070c4a",
   "metadata": {},
   "source": [
    "## Access the database"
   ]
  },
  {
   "cell_type": "code",
   "execution_count": 36,
   "id": "71132a0d-e41f-4ede-8a6c-7f74785168a0",
   "metadata": {},
   "outputs": [],
   "source": [
    "# MongoDB\n",
    "MONGODB_CONTAINER_NAME = \"mongodb\"\n",
    "MONGODB_PORT = \"27017\"\n",
    "DATABASE_NAME = \"user_database\""
   ]
  },
  {
   "cell_type": "code",
   "execution_count": 37,
   "id": "e3b1329c-1b34-4c67-8118-8bbae49c6908",
   "metadata": {},
   "outputs": [],
   "source": [
    "from mongodb_admin import MongoDB_Admin\n",
    "\n",
    "mongo_admin = MongoDB_Admin(\n",
    "    f\"mongodb://{MONGODB_CONTAINER_NAME}:{MONGODB_PORT}/\"\n",
    ")"
   ]
  },
  {
   "cell_type": "code",
   "execution_count": 46,
   "id": "b94ed44f-e8b3-4479-88d7-1830d4a78675",
   "metadata": {},
   "outputs": [
    {
     "data": {
      "text/plain": [
       "Collection(Database(MongoClient(host=['mongodb:27017'], document_class=dict, tz_aware=False, connect=True), 'user_database'), 'user_database')"
      ]
     },
     "execution_count": 46,
     "metadata": {},
     "output_type": "execute_result"
    }
   ],
   "source": [
    "db = mongo_admin.db[DATABASE_NAME]\n",
    "db"
   ]
  },
  {
   "cell_type": "markdown",
   "id": "99fb5773-ef02-422f-aaff-e5a1896dfda7",
   "metadata": {},
   "source": [
    "For now the database is empty. We will create a collection named `users` and fill it in the next steps."
   ]
  },
  {
   "cell_type": "code",
   "execution_count": 53,
   "id": "467e3ff4-1df5-40f3-85ea-0366e532cf35",
   "metadata": {},
   "outputs": [
    {
     "ename": "ServerSelectionTimeoutError",
     "evalue": "mongodb:27017: [Errno -2] Name or service not known, Timeout: 30s, Topology Description: <TopologyDescription id: 649c61abfd4944b39ce72842, topology_type: Unknown, servers: [<ServerDescription ('mongodb', 27017) server_type: Unknown, rtt: None, error=AutoReconnect('mongodb:27017: [Errno -2] Name or service not known')>]>",
     "output_type": "error",
     "traceback": [
      "\u001b[0;31m---------------------------------------------------------------------------\u001b[0m",
      "\u001b[0;31mServerSelectionTimeoutError\u001b[0m               Traceback (most recent call last)",
      "Cell \u001b[0;32mIn[53], line 1\u001b[0m\n\u001b[0;32m----> 1\u001b[0m \u001b[43mdb\u001b[49m\u001b[38;5;241;43m.\u001b[39;49m\u001b[43musers\u001b[49m\u001b[38;5;241;43m.\u001b[39;49m\u001b[43mcount_documents\u001b[49m\u001b[43m(\u001b[49m\u001b[43m{\u001b[49m\u001b[38;5;124;43m\"\u001b[39;49m\u001b[38;5;124;43muser_name\u001b[39;49m\u001b[38;5;124;43m\"\u001b[39;49m\u001b[43m:\u001b[49m\u001b[43m \u001b[49m\u001b[38;5;124;43m\"\u001b[39;49m\u001b[38;5;124;43mAlice\u001b[39;49m\u001b[38;5;124;43m\"\u001b[39;49m\u001b[43m}\u001b[49m\u001b[43m)\u001b[49m\n",
      "File \u001b[0;32m~/anaconda3/lib/python3.10/site-packages/pymongo/collection.py:1835\u001b[0m, in \u001b[0;36mCollection.count_documents\u001b[0;34m(self, filter, session, comment, **kwargs)\u001b[0m\n\u001b[1;32m   1832\u001b[0m         \u001b[38;5;28;01mreturn\u001b[39;00m \u001b[38;5;241m0\u001b[39m\n\u001b[1;32m   1833\u001b[0m     \u001b[38;5;28;01mreturn\u001b[39;00m result[\u001b[38;5;124m\"\u001b[39m\u001b[38;5;124mn\u001b[39m\u001b[38;5;124m\"\u001b[39m]\n\u001b[0;32m-> 1835\u001b[0m \u001b[38;5;28;01mreturn\u001b[39;00m \u001b[38;5;28;43mself\u001b[39;49m\u001b[38;5;241;43m.\u001b[39;49m\u001b[43m_retryable_non_cursor_read\u001b[49m\u001b[43m(\u001b[49m\u001b[43m_cmd\u001b[49m\u001b[43m,\u001b[49m\u001b[43m \u001b[49m\u001b[43msession\u001b[49m\u001b[43m)\u001b[49m\n",
      "File \u001b[0;32m~/anaconda3/lib/python3.10/site-packages/pymongo/collection.py:1840\u001b[0m, in \u001b[0;36mCollection._retryable_non_cursor_read\u001b[0;34m(self, func, session)\u001b[0m\n\u001b[1;32m   1838\u001b[0m \u001b[38;5;124;03m\"\"\"Non-cursor read helper to handle implicit session creation.\"\"\"\u001b[39;00m\n\u001b[1;32m   1839\u001b[0m client \u001b[38;5;241m=\u001b[39m \u001b[38;5;28mself\u001b[39m\u001b[38;5;241m.\u001b[39m__database\u001b[38;5;241m.\u001b[39mclient\n\u001b[0;32m-> 1840\u001b[0m \u001b[38;5;28;01mwith\u001b[39;00m client\u001b[38;5;241m.\u001b[39m_tmp_session(session) \u001b[38;5;28;01mas\u001b[39;00m s:\n\u001b[1;32m   1841\u001b[0m     \u001b[38;5;28;01mreturn\u001b[39;00m client\u001b[38;5;241m.\u001b[39m_retryable_read(func, \u001b[38;5;28mself\u001b[39m\u001b[38;5;241m.\u001b[39m_read_preference_for(s), s)\n",
      "File \u001b[0;32m~/anaconda3/lib/python3.10/contextlib.py:135\u001b[0m, in \u001b[0;36m_GeneratorContextManager.__enter__\u001b[0;34m(self)\u001b[0m\n\u001b[1;32m    133\u001b[0m \u001b[38;5;28;01mdel\u001b[39;00m \u001b[38;5;28mself\u001b[39m\u001b[38;5;241m.\u001b[39margs, \u001b[38;5;28mself\u001b[39m\u001b[38;5;241m.\u001b[39mkwds, \u001b[38;5;28mself\u001b[39m\u001b[38;5;241m.\u001b[39mfunc\n\u001b[1;32m    134\u001b[0m \u001b[38;5;28;01mtry\u001b[39;00m:\n\u001b[0;32m--> 135\u001b[0m     \u001b[38;5;28;01mreturn\u001b[39;00m \u001b[38;5;28;43mnext\u001b[39;49m\u001b[43m(\u001b[49m\u001b[38;5;28;43mself\u001b[39;49m\u001b[38;5;241;43m.\u001b[39;49m\u001b[43mgen\u001b[49m\u001b[43m)\u001b[49m\n\u001b[1;32m    136\u001b[0m \u001b[38;5;28;01mexcept\u001b[39;00m \u001b[38;5;167;01mStopIteration\u001b[39;00m:\n\u001b[1;32m    137\u001b[0m     \u001b[38;5;28;01mraise\u001b[39;00m \u001b[38;5;167;01mRuntimeError\u001b[39;00m(\u001b[38;5;124m\"\u001b[39m\u001b[38;5;124mgenerator didn\u001b[39m\u001b[38;5;124m'\u001b[39m\u001b[38;5;124mt yield\u001b[39m\u001b[38;5;124m\"\u001b[39m) \u001b[38;5;28;01mfrom\u001b[39;00m \u001b[38;5;28mNone\u001b[39m\n",
      "File \u001b[0;32m~/anaconda3/lib/python3.10/site-packages/pymongo/mongo_client.py:1729\u001b[0m, in \u001b[0;36mMongoClient._tmp_session\u001b[0;34m(self, session, close)\u001b[0m\n\u001b[1;32m   1726\u001b[0m     \u001b[38;5;28;01myield\u001b[39;00m session\n\u001b[1;32m   1727\u001b[0m     \u001b[38;5;28;01mreturn\u001b[39;00m\n\u001b[0;32m-> 1729\u001b[0m s \u001b[38;5;241m=\u001b[39m \u001b[38;5;28;43mself\u001b[39;49m\u001b[38;5;241;43m.\u001b[39;49m\u001b[43m_ensure_session\u001b[49m\u001b[43m(\u001b[49m\u001b[43msession\u001b[49m\u001b[43m)\u001b[49m\n\u001b[1;32m   1730\u001b[0m \u001b[38;5;28;01mif\u001b[39;00m s:\n\u001b[1;32m   1731\u001b[0m     \u001b[38;5;28;01mtry\u001b[39;00m:\n",
      "File \u001b[0;32m~/anaconda3/lib/python3.10/site-packages/pymongo/mongo_client.py:1712\u001b[0m, in \u001b[0;36mMongoClient._ensure_session\u001b[0;34m(self, session)\u001b[0m\n\u001b[1;32m   1707\u001b[0m     \u001b[38;5;28;01mreturn\u001b[39;00m session\n\u001b[1;32m   1709\u001b[0m \u001b[38;5;28;01mtry\u001b[39;00m:\n\u001b[1;32m   1710\u001b[0m     \u001b[38;5;66;03m# Don't make implicit sessions causally consistent. Applications\u001b[39;00m\n\u001b[1;32m   1711\u001b[0m     \u001b[38;5;66;03m# should always opt-in.\u001b[39;00m\n\u001b[0;32m-> 1712\u001b[0m     \u001b[38;5;28;01mreturn\u001b[39;00m \u001b[38;5;28;43mself\u001b[39;49m\u001b[38;5;241;43m.\u001b[39;49m\u001b[43m__start_session\u001b[49m\u001b[43m(\u001b[49m\u001b[38;5;28;43;01mTrue\u001b[39;49;00m\u001b[43m,\u001b[49m\u001b[43m \u001b[49m\u001b[43mcausal_consistency\u001b[49m\u001b[38;5;241;43m=\u001b[39;49m\u001b[38;5;28;43;01mFalse\u001b[39;49;00m\u001b[43m)\u001b[49m\n\u001b[1;32m   1713\u001b[0m \u001b[38;5;28;01mexcept\u001b[39;00m (ConfigurationError, InvalidOperation):\n\u001b[1;32m   1714\u001b[0m     \u001b[38;5;66;03m# Sessions not supported.\u001b[39;00m\n\u001b[1;32m   1715\u001b[0m     \u001b[38;5;28;01mreturn\u001b[39;00m \u001b[38;5;28;01mNone\u001b[39;00m\n",
      "File \u001b[0;32m~/anaconda3/lib/python3.10/site-packages/pymongo/mongo_client.py:1657\u001b[0m, in \u001b[0;36mMongoClient.__start_session\u001b[0;34m(self, implicit, **kwargs)\u001b[0m\n\u001b[1;32m   1654\u001b[0m \u001b[38;5;28;01mdef\u001b[39;00m \u001b[38;5;21m__start_session\u001b[39m(\u001b[38;5;28mself\u001b[39m, implicit, \u001b[38;5;241m*\u001b[39m\u001b[38;5;241m*\u001b[39mkwargs):\n\u001b[1;32m   1655\u001b[0m     \u001b[38;5;66;03m# Raises ConfigurationError if sessions are not supported.\u001b[39;00m\n\u001b[1;32m   1656\u001b[0m     \u001b[38;5;28;01mif\u001b[39;00m implicit:\n\u001b[0;32m-> 1657\u001b[0m         \u001b[38;5;28;43mself\u001b[39;49m\u001b[38;5;241;43m.\u001b[39;49m\u001b[43m_topology\u001b[49m\u001b[38;5;241;43m.\u001b[39;49m\u001b[43m_check_implicit_session_support\u001b[49m\u001b[43m(\u001b[49m\u001b[43m)\u001b[49m\n\u001b[1;32m   1658\u001b[0m         server_session \u001b[38;5;241m=\u001b[39m _EmptyServerSession()\n\u001b[1;32m   1659\u001b[0m     \u001b[38;5;28;01melse\u001b[39;00m:\n",
      "File \u001b[0;32m~/anaconda3/lib/python3.10/site-packages/pymongo/topology.py:538\u001b[0m, in \u001b[0;36mTopology._check_implicit_session_support\u001b[0;34m(self)\u001b[0m\n\u001b[1;32m    536\u001b[0m \u001b[38;5;28;01mdef\u001b[39;00m \u001b[38;5;21m_check_implicit_session_support\u001b[39m(\u001b[38;5;28mself\u001b[39m):\n\u001b[1;32m    537\u001b[0m     \u001b[38;5;28;01mwith\u001b[39;00m \u001b[38;5;28mself\u001b[39m\u001b[38;5;241m.\u001b[39m_lock:\n\u001b[0;32m--> 538\u001b[0m         \u001b[38;5;28;43mself\u001b[39;49m\u001b[38;5;241;43m.\u001b[39;49m\u001b[43m_check_session_support\u001b[49m\u001b[43m(\u001b[49m\u001b[43m)\u001b[49m\n",
      "File \u001b[0;32m~/anaconda3/lib/python3.10/site-packages/pymongo/topology.py:554\u001b[0m, in \u001b[0;36mTopology._check_session_support\u001b[0;34m(self)\u001b[0m\n\u001b[1;32m    550\u001b[0m         \u001b[38;5;28mself\u001b[39m\u001b[38;5;241m.\u001b[39m_select_servers_loop(\n\u001b[1;32m    551\u001b[0m             any_server_selector, \u001b[38;5;28mself\u001b[39m\u001b[38;5;241m.\u001b[39mget_server_selection_timeout(), \u001b[38;5;28;01mNone\u001b[39;00m\n\u001b[1;32m    552\u001b[0m         )\n\u001b[1;32m    553\u001b[0m \u001b[38;5;28;01melif\u001b[39;00m \u001b[38;5;129;01mnot\u001b[39;00m \u001b[38;5;28mself\u001b[39m\u001b[38;5;241m.\u001b[39m_description\u001b[38;5;241m.\u001b[39mreadable_servers:\n\u001b[0;32m--> 554\u001b[0m     \u001b[38;5;28;43mself\u001b[39;49m\u001b[38;5;241;43m.\u001b[39;49m\u001b[43m_select_servers_loop\u001b[49m\u001b[43m(\u001b[49m\n\u001b[1;32m    555\u001b[0m \u001b[43m        \u001b[49m\u001b[43mreadable_server_selector\u001b[49m\u001b[43m,\u001b[49m\u001b[43m \u001b[49m\u001b[38;5;28;43mself\u001b[39;49m\u001b[38;5;241;43m.\u001b[39;49m\u001b[43mget_server_selection_timeout\u001b[49m\u001b[43m(\u001b[49m\u001b[43m)\u001b[49m\u001b[43m,\u001b[49m\u001b[43m \u001b[49m\u001b[38;5;28;43;01mNone\u001b[39;49;00m\n\u001b[1;32m    556\u001b[0m \u001b[43m    \u001b[49m\u001b[43m)\u001b[49m\n\u001b[1;32m    558\u001b[0m session_timeout \u001b[38;5;241m=\u001b[39m \u001b[38;5;28mself\u001b[39m\u001b[38;5;241m.\u001b[39m_description\u001b[38;5;241m.\u001b[39mlogical_session_timeout_minutes\n\u001b[1;32m    559\u001b[0m \u001b[38;5;28;01mif\u001b[39;00m session_timeout \u001b[38;5;129;01mis\u001b[39;00m \u001b[38;5;28;01mNone\u001b[39;00m:\n",
      "File \u001b[0;32m~/anaconda3/lib/python3.10/site-packages/pymongo/topology.py:238\u001b[0m, in \u001b[0;36mTopology._select_servers_loop\u001b[0;34m(self, selector, timeout, address)\u001b[0m\n\u001b[1;32m    235\u001b[0m \u001b[38;5;28;01mwhile\u001b[39;00m \u001b[38;5;129;01mnot\u001b[39;00m server_descriptions:\n\u001b[1;32m    236\u001b[0m     \u001b[38;5;66;03m# No suitable servers.\u001b[39;00m\n\u001b[1;32m    237\u001b[0m     \u001b[38;5;28;01mif\u001b[39;00m timeout \u001b[38;5;241m==\u001b[39m \u001b[38;5;241m0\u001b[39m \u001b[38;5;129;01mor\u001b[39;00m now \u001b[38;5;241m>\u001b[39m end_time:\n\u001b[0;32m--> 238\u001b[0m         \u001b[38;5;28;01mraise\u001b[39;00m ServerSelectionTimeoutError(\n\u001b[1;32m    239\u001b[0m             \u001b[38;5;124m\"\u001b[39m\u001b[38;5;132;01m%s\u001b[39;00m\u001b[38;5;124m, Timeout: \u001b[39m\u001b[38;5;132;01m%s\u001b[39;00m\u001b[38;5;124ms, Topology Description: \u001b[39m\u001b[38;5;132;01m%r\u001b[39;00m\u001b[38;5;124m\"\u001b[39m\n\u001b[1;32m    240\u001b[0m             \u001b[38;5;241m%\u001b[39m (\u001b[38;5;28mself\u001b[39m\u001b[38;5;241m.\u001b[39m_error_message(selector), timeout, \u001b[38;5;28mself\u001b[39m\u001b[38;5;241m.\u001b[39mdescription)\n\u001b[1;32m    241\u001b[0m         )\n\u001b[1;32m    243\u001b[0m     \u001b[38;5;28mself\u001b[39m\u001b[38;5;241m.\u001b[39m_ensure_opened()\n\u001b[1;32m    244\u001b[0m     \u001b[38;5;28mself\u001b[39m\u001b[38;5;241m.\u001b[39m_request_check_all()\n",
      "\u001b[0;31mServerSelectionTimeoutError\u001b[0m: mongodb:27017: [Errno -2] Name or service not known, Timeout: 30s, Topology Description: <TopologyDescription id: 649c61abfd4944b39ce72842, topology_type: Unknown, servers: [<ServerDescription ('mongodb', 27017) server_type: Unknown, rtt: None, error=AutoReconnect('mongodb:27017: [Errno -2] Name or service not known')>]>"
     ]
    }
   ],
   "source": [
    "db.users.count_documents({\"user_name\": \"Alice\"})"
   ]
  },
  {
   "cell_type": "code",
   "execution_count": 42,
   "id": "022d63b0-8524-4d15-aca8-1a6507d3f5bf",
   "metadata": {},
   "outputs": [
    {
     "ename": "AttributeError",
     "evalue": "'MongoDB_Admin' object has no attribute 'database_names'",
     "output_type": "error",
     "traceback": [
      "\u001b[0;31m---------------------------------------------------------------------------\u001b[0m",
      "\u001b[0;31mAttributeError\u001b[0m                            Traceback (most recent call last)",
      "Cell \u001b[0;32mIn[42], line 1\u001b[0m\n\u001b[0;32m----> 1\u001b[0m d \u001b[38;5;241m=\u001b[39m \u001b[38;5;28mdict\u001b[39m((db, [collection \u001b[38;5;28;01mfor\u001b[39;00m collection \u001b[38;5;129;01min\u001b[39;00m client[db]\u001b[38;5;241m.\u001b[39mcollection_names()]) \u001b[38;5;28;01mfor\u001b[39;00m db \u001b[38;5;129;01min\u001b[39;00m \u001b[43mmongo_admin\u001b[49m\u001b[38;5;241;43m.\u001b[39;49m\u001b[43mdatabase_names\u001b[49m())\n\u001b[1;32m      2\u001b[0m \u001b[38;5;28mprint\u001b[39m(json\u001b[38;5;241m.\u001b[39mdumps(d))\n",
      "\u001b[0;31mAttributeError\u001b[0m: 'MongoDB_Admin' object has no attribute 'database_names'"
     ]
    }
   ],
   "source": [
    "d = dict((db, [collection for collection in client[db].collection_names()]) for db in mongo_admin.database_names())\n",
    "print(json.dumps(d))"
   ]
  },
  {
   "cell_type": "markdown",
   "id": "b37c19b8-303d-4fe8-b515-33ed1099c581",
   "metadata": {},
   "source": [
    "## Visualise all options\n",
    "You can visualise all the options offered by the database by running the command `python src/mongodb_admin.py --help`. We will go through through each of them in the rest of the notebook."
   ]
  },
  {
   "cell_type": "code",
   "execution_count": 24,
   "id": "8a749f4b-93cb-460c-bb40-4880df6e51d9",
   "metadata": {},
   "outputs": [
    {
     "name": "stdout",
     "output_type": "stream",
     "text": [
      "usage: MongoDB administration script for the SDD POC Server\n",
      "       [-h]\n",
      "       {add_user,del_user,add_dataset_to_user,del_dataset_to_user,set_budget_field,set_may_query,add_metadata,del_metadata,drop_collection,create_ex_users}\n",
      "       ...\n",
      "\n",
      "options:\n",
      "  -h, --help            show this help message and exit\n",
      "\n",
      "subcommands:\n",
      "  {add_user,del_user,add_dataset_to_user,del_dataset_to_user,set_budget_field,set_may_query,add_metadata,del_metadata,drop_collection,create_ex_users}\n",
      "                        database administration operations\n",
      "    add_user            add user to users collection\n",
      "    del_user            delete user from users collection\n",
      "    add_dataset_to_user\n",
      "                        add dataset with initialized budget values for a user\n",
      "                        in users collection\n",
      "    del_dataset_to_user\n",
      "                        delete dataset for user in users collection\n",
      "    set_budget_field    set budget field to given value for given user and\n",
      "                        dataset\n",
      "    set_may_query       set may query field to given value for given user\n",
      "    add_metadata        add metadata for given dataset to metadata collection\n",
      "    del_metadata        delete metadata to metadata collection\n",
      "    drop_collection     delete collection from database\n",
      "    create_ex_users     create example of users collection\n"
     ]
    }
   ],
   "source": [
    "!python src/mongodb_admin.py --help"
   ]
  },
  {
   "cell_type": "markdown",
   "id": "16ce7607-c378-4988-b986-09629c2c6122",
   "metadata": {},
   "source": [
    "## Add dataset\n",
    "The super confidential dataset that we want to add is the penguin dataset from."
   ]
  },
  {
   "cell_type": "code",
   "execution_count": 10,
   "id": "e3ae4e5a-f870-4c87-8b02-e30367d27450",
   "metadata": {},
   "outputs": [],
   "source": [
    "DATASET = \"PENGUIN\" # TODO because nothing yet"
   ]
  },
  {
   "cell_type": "code",
   "execution_count": null,
   "id": "5b54ae57-61a9-4f16-8196-76142e099124",
   "metadata": {},
   "outputs": [],
   "source": []
  },
  {
   "cell_type": "markdown",
   "id": "14ab18db-4b6d-4663-bde0-b5d9d3d3d2ee",
   "metadata": {},
   "source": [
    "## Add user\n",
    "Let's add few users. For now, you can just give their name."
   ]
  },
  {
   "cell_type": "code",
   "execution_count": null,
   "id": "7858f019-8783-4fed-acd8-ff0107d33465",
   "metadata": {},
   "outputs": [],
   "source": [
    "!python src/mongodb_admin.py add_user --user \"Alice\""
   ]
  },
  {
   "cell_type": "code",
   "execution_count": 54,
   "id": "231e7d93-05ba-424a-8329-d96b0bfb4fb9",
   "metadata": {},
   "outputs": [
    {
     "name": "stdout",
     "output_type": "stream",
     "text": [
      "Traceback (most recent call last):\n",
      "  File \"/home/pauline/poc/sdd-poc-server/src/mongodb_admin.py\", line 302, in <module>\n",
      "    args.func(args)\n",
      "  File \"/home/pauline/poc/sdd-poc-server/src/mongodb_admin.py\", line 32, in add_user\n",
      "    if self.db.users.count_documents({\"user_name\": args.user}) > 0:\n",
      "  File \"/home/pauline/anaconda3/lib/python3.10/site-packages/pymongo/collection.py\", line 1835, in count_documents\n",
      "    return self._retryable_non_cursor_read(_cmd, session)\n",
      "  File \"/home/pauline/anaconda3/lib/python3.10/site-packages/pymongo/collection.py\", line 1840, in _retryable_non_cursor_read\n",
      "    with client._tmp_session(session) as s:\n",
      "  File \"/home/pauline/anaconda3/lib/python3.10/contextlib.py\", line 135, in __enter__\n",
      "    return next(self.gen)\n",
      "  File \"/home/pauline/anaconda3/lib/python3.10/site-packages/pymongo/mongo_client.py\", line 1729, in _tmp_session\n",
      "    s = self._ensure_session(session)\n",
      "  File \"/home/pauline/anaconda3/lib/python3.10/site-packages/pymongo/mongo_client.py\", line 1712, in _ensure_session\n",
      "    return self.__start_session(True, causal_consistency=False)\n",
      "  File \"/home/pauline/anaconda3/lib/python3.10/site-packages/pymongo/mongo_client.py\", line 1657, in __start_session\n",
      "    self._topology._check_implicit_session_support()\n",
      "  File \"/home/pauline/anaconda3/lib/python3.10/site-packages/pymongo/topology.py\", line 538, in _check_implicit_session_support\n",
      "    self._check_session_support()\n",
      "  File \"/home/pauline/anaconda3/lib/python3.10/site-packages/pymongo/topology.py\", line 554, in _check_session_support\n",
      "    self._select_servers_loop(\n",
      "  File \"/home/pauline/anaconda3/lib/python3.10/site-packages/pymongo/topology.py\", line 238, in _select_servers_loop\n",
      "    raise ServerSelectionTimeoutError(\n",
      "pymongo.errors.ServerSelectionTimeoutError: mongodb:27017: [Errno -2] Name or service not known, Timeout: 30s, Topology Description: <TopologyDescription id: 649c64c10b54a228b57d2a30, topology_type: Unknown, servers: [<ServerDescription ('mongodb', 27017) server_type: Unknown, rtt: None, error=AutoReconnect('mongodb:27017: [Errno -2] Name or service not known')>]>\n"
     ]
    }
   ],
   "source": [
    "!python src/mongodb_admin.py add_user --user \"Dr. Antartica\""
   ]
  },
  {
   "cell_type": "code",
   "execution_count": null,
   "id": "0c631bd0-bc2d-4080-8359-03c6b729b7a7",
   "metadata": {},
   "outputs": [],
   "source": [
    "Nice, we have now these users are added"
   ]
  },
  {
   "cell_type": "markdown",
   "id": "9ab1f5ba-68bd-4c96-bacd-b81dfa5d6302",
   "metadata": {},
   "source": [
    "## Remove user"
   ]
  },
  {
   "cell_type": "code",
   "execution_count": null,
   "id": "7f341b3d-5a88-4fd9-8c97-cc70145834f1",
   "metadata": {},
   "outputs": [],
   "source": []
  },
  {
   "cell_type": "code",
   "execution_count": null,
   "id": "a54e89eb-1ee1-48ad-9e00-bace8516a3ef",
   "metadata": {},
   "outputs": [],
   "source": []
  },
  {
   "cell_type": "markdown",
   "id": "90a46a59-70ed-4a26-88cd-6ca8f1d17318",
   "metadata": {},
   "source": [
    "## Change budget"
   ]
  },
  {
   "cell_type": "code",
   "execution_count": null,
   "id": "0909e6c4-141e-4d57-acd2-bdc0a2d92cea",
   "metadata": {},
   "outputs": [],
   "source": []
  },
  {
   "cell_type": "code",
   "execution_count": null,
   "id": "c0e110fe-4297-4559-9a95-bc0ebdfa402c",
   "metadata": {},
   "outputs": [],
   "source": []
  },
  {
   "cell_type": "markdown",
   "id": "a27be3d3-77a2-43d3-9a7f-87c8466293fe",
   "metadata": {},
   "source": [
    "## Stop the server\n",
    "To tear down the service, use `docker compose down`. This will also delete all the containers but the volume will stay in place."
   ]
  },
  {
   "cell_type": "code",
   "execution_count": 1,
   "id": "3d5159a0-7a1a-47dc-8b5b-b7a65e8602d2",
   "metadata": {},
   "outputs": [],
   "source": [
    "!docker compose down"
   ]
  },
  {
   "cell_type": "code",
   "execution_count": null,
   "id": "04860a56-508e-4433-9d10-59481ef96e92",
   "metadata": {},
   "outputs": [],
   "source": []
  }
 ],
 "metadata": {
  "kernelspec": {
   "display_name": "Python 3 (ipykernel)",
   "language": "python",
   "name": "python3"
  },
  "language_info": {
   "codemirror_mode": {
    "name": "ipython",
    "version": 3
   },
   "file_extension": ".py",
   "mimetype": "text/x-python",
   "name": "python",
   "nbconvert_exporter": "python",
   "pygments_lexer": "ipython3",
   "version": "3.10.9"
  }
 },
 "nbformat": 4,
 "nbformat_minor": 5
}
